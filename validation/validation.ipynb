{
 "cells": [
  {
   "cell_type": "code",
   "execution_count": 1,
   "metadata": {
    "ExecuteTime": {
     "end_time": "2023-03-07T16:21:29.920667Z",
     "start_time": "2023-03-07T16:21:29.876770Z"
    }
   },
   "outputs": [],
   "source": [
    "import glob\n",
    "import jsonschema\n",
    "from jsonschema import Draft7Validator\n",
    "import os"
   ]
  },
  {
   "cell_type": "code",
   "execution_count": 2,
   "metadata": {
    "ExecuteTime": {
     "end_time": "2023-03-07T16:21:30.081488Z",
     "start_time": "2023-03-07T16:21:30.077682Z"
    }
   },
   "outputs": [],
   "source": [
    "import json"
   ]
  },
  {
   "cell_type": "markdown",
   "metadata": {},
   "source": [
    "## Schema"
   ]
  },
  {
   "cell_type": "markdown",
   "metadata": {},
   "source": [
    "### Read JSON files"
   ]
  },
  {
   "cell_type": "code",
   "execution_count": 3,
   "metadata": {
    "ExecuteTime": {
     "end_time": "2023-03-07T16:21:30.528553Z",
     "start_time": "2023-03-07T16:21:30.522757Z"
    }
   },
   "outputs": [],
   "source": [
    "# dictionary (name:path) of all schemas\n",
    "schemas = {os.path.basename(fpath): os.path.abspath(fpath) for fpath in glob.iglob('../*.json')}"
   ]
  },
  {
   "cell_type": "code",
   "execution_count": 4,
   "metadata": {
    "ExecuteTime": {
     "end_time": "2023-03-07T16:21:30.662849Z",
     "start_time": "2023-03-07T16:21:30.650945Z"
    }
   },
   "outputs": [
    {
     "name": "stdout",
     "output_type": "stream",
     "text": [
      "--------------------\n",
      " Attempt to read person.json (/home/ghammad/Work/CDSIG-Schema/person.json)\n",
      "--------------------\n",
      " Attempt to read study.json (/home/ghammad/Work/CDSIG-Schema/study.json)\n",
      "--------------------\n",
      " Attempt to read event.json (/home/ghammad/Work/CDSIG-Schema/event.json)\n",
      "--------------------\n",
      " Attempt to read acquisition.json (/home/ghammad/Work/CDSIG-Schema/acquisition.json)\n",
      "--------------------\n",
      " Attempt to read dataset.json (/home/ghammad/Work/CDSIG-Schema/dataset.json)\n",
      "--------------------\n",
      " Attempt to read device.json (/home/ghammad/Work/CDSIG-Schema/device.json)\n",
      "--------------------\n",
      " Attempt to read project.json (/home/ghammad/Work/CDSIG-Schema/project.json)\n",
      "--------------------\n",
      " Attempt to read participant.json (/home/ghammad/Work/CDSIG-Schema/participant.json)\n"
     ]
    }
   ],
   "source": [
    "schema_data = {}\n",
    "for name, schema in schemas.items():\n",
    "    # read file\n",
    "    print('-'*20)\n",
    "    print(' Attempt to read {} ({})'.format(name,schema))\n",
    "    with open(schema, 'r') as f:\n",
    "        schema_data[name] = json.loads(f.read())\n"
   ]
  },
  {
   "cell_type": "markdown",
   "metadata": {
    "scrolled": true
   },
   "source": [
    "### Validate JSON schema"
   ]
  },
  {
   "cell_type": "code",
   "execution_count": 5,
   "metadata": {
    "ExecuteTime": {
     "end_time": "2023-03-07T16:21:30.974677Z",
     "start_time": "2023-03-07T16:21:30.959980Z"
    }
   },
   "outputs": [
    {
     "data": {
      "text/plain": [
       "'/home/ghammad/Work/CDSIG-Schema/participant.json'"
      ]
     },
     "execution_count": 5,
     "metadata": {},
     "output_type": "execute_result"
    }
   ],
   "source": [
    "schema"
   ]
  },
  {
   "cell_type": "code",
   "execution_count": 6,
   "metadata": {
    "ExecuteTime": {
     "end_time": "2023-03-07T16:21:31.119459Z",
     "start_time": "2023-03-07T16:21:31.097021Z"
    }
   },
   "outputs": [
    {
     "name": "stdout",
     "output_type": "stream",
     "text": [
      "--------------------\n",
      " Attempt to validate schema person.json\n",
      "--------------------\n",
      " Attempt to validate schema study.json\n",
      "--------------------\n",
      " Attempt to validate schema event.json\n",
      "--------------------\n",
      " Attempt to validate schema acquisition.json\n",
      "--------------------\n",
      " Attempt to validate schema dataset.json\n",
      "--------------------\n",
      " Attempt to validate schema device.json\n",
      "--------------------\n",
      " Attempt to validate schema project.json\n",
      "--------------------\n",
      " Attempt to validate schema participant.json\n"
     ]
    }
   ],
   "source": [
    "for name, schema in schema_data.items():\n",
    "    # read file\n",
    "    print('-'*20)\n",
    "    print(' Attempt to validate schema {}'.format(name))\n",
    "    Draft7Validator.check_schema(schema)"
   ]
  },
  {
   "cell_type": "markdown",
   "metadata": {},
   "source": [
    "### Document JSON schema"
   ]
  },
  {
   "cell_type": "code",
   "execution_count": 7,
   "metadata": {
    "ExecuteTime": {
     "end_time": "2023-03-07T16:21:32.144496Z",
     "start_time": "2023-03-07T16:21:32.000530Z"
    }
   },
   "outputs": [],
   "source": [
    "from json_schema_for_humans.generate import generate_from_filename\n",
    "from json_schema_for_humans.generation_configuration import GenerationConfiguration"
   ]
  },
  {
   "cell_type": "code",
   "execution_count": 8,
   "metadata": {
    "ExecuteTime": {
     "end_time": "2023-03-07T16:21:32.812325Z",
     "start_time": "2023-03-07T16:21:32.808203Z"
    }
   },
   "outputs": [],
   "source": [
    "config = GenerationConfiguration(\n",
    "#    copy_css=False, expand_buttons=True, \n",
    "    template_name='md'\n",
    ")"
   ]
  },
  {
   "cell_type": "code",
   "execution_count": 9,
   "metadata": {
    "ExecuteTime": {
     "end_time": "2023-03-07T16:21:34.260175Z",
     "start_time": "2023-03-07T16:21:34.254400Z"
    }
   },
   "outputs": [
    {
     "name": "stdout",
     "output_type": "stream",
     "text": [
      "Help on function generate_from_filename in module json_schema_for_humans.generate:\n",
      "\n",
      "generate_from_filename(schema_file_name: Union[str, pathlib.Path], result_file_name: str, minify: bool = True, deprecated_from_description: bool = False, default_from_description: bool = False, expand_buttons: bool = False, copy_css: bool = True, copy_js: bool = True, link_to_reused_ref: bool = True, config: json_schema_for_humans.generation_configuration.GenerationConfiguration = None) -> None\n",
      "    Generate the schema documentation from a filename\n",
      "\n"
     ]
    }
   ],
   "source": [
    "help(generate_from_filename)"
   ]
  },
  {
   "cell_type": "code",
   "execution_count": 10,
   "metadata": {
    "ExecuteTime": {
     "end_time": "2023-03-07T16:21:35.255661Z",
     "start_time": "2023-03-07T16:21:35.201632Z"
    }
   },
   "outputs": [
    {
     "name": "stdout",
     "output_type": "stream",
     "text": [
      "== Generating schema_person_doc.md ==\n",
      "== Generated schema_person_doc.md in 0:00:00.036051 ==\n"
     ]
    }
   ],
   "source": [
    "generate_from_filename(\"/home/ghammad/Work/CDSIG-Schema/person.json\", \"schema_person_doc.md\", config=config)"
   ]
  },
  {
   "cell_type": "markdown",
   "metadata": {},
   "source": [
    "# Base schema for contributors\n",
    "\n",
    "- [1. Property `Base schema for contributors > name`](#name)\n",
    "- [2. Property `Base schema for contributors > role`](#role)\n",
    "  - [2.1. Base schema for contributors > role > Role ID](#autogenerated_heading_2)\n",
    "- [3. Property `Base schema for contributors > email`](#email)\n",
    "- [4. Property `Base schema for contributors > orcid`](#orcid)\n",
    "- [5. Property `Base schema for contributors > institution`](#institution)\n",
    "  - [5.1. Property `Base schema for contributors > institution > name`](#institution_name)\n",
    "  - [5.2. Property `Base schema for contributors > institution > street_address`](#institution_street_address)\n",
    "  - [5.3. Property `Base schema for contributors > institution > city`](#institution_city)\n",
    "  - [5.4. Property `Base schema for contributors > institution > country`](#institution_country)\n",
    "\n",
    "**Title:** Base schema for contributors\n",
    "\n",
    "|                           |                                                                           |\n",
    "| ------------------------- | ------------------------------------------------------------------------- |\n",
    "| **Type**                  | `object`                                                                  |\n",
    "| **Required**              | No                                                                        |\n",
    "| **Additional properties** | [[Any type: allowed]](# \"Additional Properties of any type are allowed.\") |\n",
    "\n",
    "**Description:** Role and contact information about a person.\n",
    "\n",
    "| Property                       | Pattern | Type            | Deprecated | Definition | Title/Description |\n",
    "| ------------------------------ | ------- | --------------- | ---------- | ---------- | ----------------- |\n",
    "| + [name](#name )               | No      | string          | No         | -          | Name              |\n",
    "| + [role](#role )               | No      | array of string | No         | -          | Roles             |\n",
    "| - [email](#email )             | No      | string          | No         | -          | Email             |\n",
    "| - [orcid](#orcid )             | No      | string          | No         | -          | ORCID identifier  |\n",
    "| + [institution](#institution ) | No      | object          | No         | -          | Institution       |\n",
    "\n",
    "## <a name=\"name\"></a>1. Property `Base schema for contributors > name`\n",
    "\n",
    "**Title:** Name\n",
    "\n",
    "|              |          |\n",
    "| ------------ | -------- |\n",
    "| **Type**     | `string` |\n",
    "| **Required** | Yes      |\n",
    "\n",
    "## <a name=\"role\"></a>2. Property `Base schema for contributors > role`\n",
    "\n",
    "**Title:** Roles\n",
    "\n",
    "|              |                   |\n",
    "| ------------ | ----------------- |\n",
    "| **Type**     | `array of string` |\n",
    "| **Required** | Yes               |\n",
    "\n",
    "**Description:** Role ID(s) according to the Contributor Role Ontology (https://www.ebi.ac.uk/ols/ontologies/cro)\n",
    "\n",
    "|                      | Array restrictions |\n",
    "| -------------------- | ------------------ |\n",
    "| **Min items**        | 1                  |\n",
    "| **Max items**        | N/A                |\n",
    "| **Items unicity**    | False              |\n",
    "| **Additional items** | False              |\n",
    "| **Tuple validation** | See below          |\n",
    "\n",
    "| Each item of this array must be | Description |\n",
    "| ------------------------------- | ----------- |\n",
    "| [Role ID](#role_items)          | Role ID     |\n",
    "\n",
    "### <a name=\"autogenerated_heading_2\"></a>2.1. Base schema for contributors > role > Role ID\n",
    "\n",
    "**Title:** Role ID\n",
    "\n",
    "|              |          |\n",
    "| ------------ | -------- |\n",
    "| **Type**     | `string` |\n",
    "| **Required** | No       |\n",
    "\n",
    "**Description:** Role ID\n",
    "\n",
    "| Restrictions                      |                                                                                                                                                        |\n",
    "| --------------------------------- | ------------------------------------------------------------------------------------------------------------------------------------------------------ |\n",
    "| **Must match regular expression** | ```^((CRO_[0-9]{7})\\|(CREDIT_[0-9]{8}))$``` [Test](https://regex101.com/?regex=%5E%28%28CRO_%5B0-9%5D%7B7%7D%29%7C%28CREDIT_%5B0-9%5D%7B8%7D%29%29%24) |\n",
    "\n",
    "## <a name=\"email\"></a>3. Property `Base schema for contributors > email`\n",
    "\n",
    "**Title:** Email\n",
    "\n",
    "|              |             |\n",
    "| ------------ | ----------- |\n",
    "| **Type**     | `string`    |\n",
    "| **Required** | No          |\n",
    "| **Format**   | `idn-email` |\n",
    "\n",
    "## <a name=\"orcid\"></a>4. Property `Base schema for contributors > orcid`\n",
    "\n",
    "**Title:** ORCID identifier\n",
    "\n",
    "|              |          |\n",
    "| ------------ | -------- |\n",
    "| **Type**     | `string` |\n",
    "| **Required** | No       |\n",
    "\n",
    "**Description:** ORCID identifier\n",
    "\n",
    "| Restrictions                      |                                                                                                                                                                                |\n",
    "| --------------------------------- | ------------------------------------------------------------------------------------------------------------------------------------------------------------------------------ |\n",
    "| **Must match regular expression** | ```^[0-9]{4}-[0-9]{4}-[0-9]{4}-[0-9]{3}[0-9\\|X]$``` [Test](https://regex101.com/?regex=%5E%5B0-9%5D%7B4%7D-%5B0-9%5D%7B4%7D-%5B0-9%5D%7B4%7D-%5B0-9%5D%7B3%7D%5B0-9%7CX%5D%24) |\n",
    "\n",
    "## <a name=\"institution\"></a>5. Property `Base schema for contributors > institution`\n",
    "\n",
    "**Title:** Institution\n",
    "\n",
    "|                           |                                                                           |\n",
    "| ------------------------- | ------------------------------------------------------------------------- |\n",
    "| **Type**                  | `object`                                                                  |\n",
    "| **Required**              | Yes                                                                       |\n",
    "| **Additional properties** | [[Any type: allowed]](# \"Additional Properties of any type are allowed.\") |\n",
    "\n",
    "| Property                                         | Pattern | Type   | Deprecated | Definition | Title/Description |\n",
    "| ------------------------------------------------ | ------- | ------ | ---------- | ---------- | ----------------- |\n",
    "| + [name](#institution_name )                     | No      | string | No         | -          | Name              |\n",
    "| - [street_address](#institution_street_address ) | No      | string | No         | -          | Street address    |\n",
    "| - [city](#institution_city )                     | No      | string | No         | -          | City              |\n",
    "| + [country](#institution_country )               | No      | string | No         | -          | Country           |\n",
    "\n",
    "### <a name=\"institution_name\"></a>5.1. Property `Base schema for contributors > institution > name`\n",
    "\n",
    "**Title:** Name\n",
    "\n",
    "|              |          |\n",
    "| ------------ | -------- |\n",
    "| **Type**     | `string` |\n",
    "| **Required** | Yes      |\n",
    "\n",
    "### <a name=\"institution_street_address\"></a>5.2. Property `Base schema for contributors > institution > street_address`\n",
    "\n",
    "**Title:** Street address\n",
    "\n",
    "|              |          |\n",
    "| ------------ | -------- |\n",
    "| **Type**     | `string` |\n",
    "| **Required** | No       |\n",
    "\n",
    "### <a name=\"institution_city\"></a>5.3. Property `Base schema for contributors > institution > city`\n",
    "\n",
    "**Title:** City\n",
    "\n",
    "|              |          |\n",
    "| ------------ | -------- |\n",
    "| **Type**     | `string` |\n",
    "| **Required** | No       |\n",
    "\n",
    "### <a name=\"institution_country\"></a>5.4. Property `Base schema for contributors > institution > country`\n",
    "\n",
    "**Title:** Country\n",
    "\n",
    "|              |          |\n",
    "| ------------ | -------- |\n",
    "| **Type**     | `string` |\n",
    "| **Required** | Yes      |\n",
    "\n",
    "----------------------------------------------------------------------------------------------------------------------------\n",
    "Generated using [json-schema-for-humans](https://github.com/coveooss/json-schema-for-humans) on 2023-03-07 at 17:21:35 +0100"
   ]
  },
  {
   "cell_type": "code",
   "execution_count": null,
   "metadata": {},
   "outputs": [],
   "source": []
  }
 ],
 "metadata": {
  "kernelspec": {
   "display_name": "Python 3",
   "language": "python",
   "name": "python3"
  },
  "language_info": {
   "codemirror_mode": {
    "name": "ipython",
    "version": 3
   },
   "file_extension": ".py",
   "mimetype": "text/x-python",
   "name": "python",
   "nbconvert_exporter": "python",
   "pygments_lexer": "ipython3",
   "version": "3.8.10"
  }
 },
 "nbformat": 4,
 "nbformat_minor": 5
}
