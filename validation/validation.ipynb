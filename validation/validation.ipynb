{
 "cells": [
  {
   "cell_type": "code",
   "execution_count": null,
   "id": "1238e198",
   "metadata": {
    "ExecuteTime": {
     "end_time": "2023-03-25T12:05:43.572515Z",
     "start_time": "2023-03-25T12:05:43.547401Z"
    }
   },
   "outputs": [],
   "source": [
    "import sys\n",
    "sys.executable"
   ]
  },
  {
   "cell_type": "code",
   "execution_count": null,
   "id": "2aaf9f6a",
   "metadata": {
    "ExecuteTime": {
     "end_time": "2023-03-25T12:05:44.509860Z",
     "start_time": "2023-03-25T12:05:44.467695Z"
    }
   },
   "outputs": [],
   "source": [
    "import glob\n",
    "import jsonschema\n",
    "from jsonschema import Draft7Validator\n",
    "import os"
   ]
  },
  {
   "cell_type": "code",
   "execution_count": null,
   "id": "78e8fabe",
   "metadata": {
    "ExecuteTime": {
     "end_time": "2023-03-25T12:05:44.953008Z",
     "start_time": "2023-03-25T12:05:44.949710Z"
    }
   },
   "outputs": [],
   "source": [
    "import json"
   ]
  },
  {
   "cell_type": "code",
   "execution_count": null,
   "id": "d0a9d01d",
   "metadata": {
    "ExecuteTime": {
     "end_time": "2023-03-25T12:06:28.577446Z",
     "start_time": "2023-03-25T12:06:28.573193Z"
    }
   },
   "outputs": [],
   "source": [
    "from json_schema_for_humans.generate import generate_from_filename\n",
    "from json_schema_for_humans.generation_configuration import GenerationConfiguration"
   ]
  },
  {
   "cell_type": "markdown",
   "id": "293b6084",
   "metadata": {},
   "source": [
    "## Schema"
   ]
  },
  {
   "cell_type": "markdown",
   "id": "dfedb1fc",
   "metadata": {},
   "source": [
    "### Read JSON files"
   ]
  },
  {
   "cell_type": "code",
   "execution_count": null,
   "id": "247c460b",
   "metadata": {
    "ExecuteTime": {
     "end_time": "2023-03-25T12:06:56.564179Z",
     "start_time": "2023-03-25T12:06:56.558676Z"
    }
   },
   "outputs": [],
   "source": [
    "# dictionary (name:path) of all schemas\n",
    "schemas = {os.path.basename(fpath): os.path.abspath(fpath) for fpath in glob.iglob('../*.json')}"
   ]
  },
  {
   "cell_type": "code",
   "execution_count": null,
   "id": "bf59defa",
   "metadata": {
    "ExecuteTime": {
     "end_time": "2023-03-25T12:06:57.178828Z",
     "start_time": "2023-03-25T12:06:57.166052Z"
    }
   },
   "outputs": [],
   "source": [
    "schema_data = {}\n",
    "for name, schema in schemas.items():\n",
    "    # read file\n",
    "    print('-'*20)\n",
    "    print(' Attempt to read {} ({})'.format(name,schema))\n",
    "    with open(schema, 'r') as f:\n",
    "        schema_data[name] = json.loads(f.read())\n"
   ]
  },
  {
   "cell_type": "markdown",
   "id": "b4b25513",
   "metadata": {
    "scrolled": true
   },
   "source": [
    "### Validate JSON schema"
   ]
  },
  {
   "cell_type": "code",
   "execution_count": null,
   "id": "fedb99eb",
   "metadata": {
    "ExecuteTime": {
     "end_time": "2023-03-25T12:06:59.768461Z",
     "start_time": "2023-03-25T12:06:59.763928Z"
    }
   },
   "outputs": [],
   "source": [
    "schema"
   ]
  },
  {
   "cell_type": "code",
   "execution_count": null,
   "id": "5b9be6ea",
   "metadata": {
    "ExecuteTime": {
     "end_time": "2023-03-25T11:53:19.788725Z",
     "start_time": "2023-03-25T11:53:19.757915Z"
    }
   },
   "outputs": [],
   "source": [
    "for name, schema in schema_data.items():\n",
    "    # read file\n",
    "    print('-'*20)\n",
    "    print(' Attempt to validate schema {}'.format(name))\n",
    "    Draft7Validator.check_schema(schema)"
   ]
  },
  {
   "cell_type": "markdown",
   "id": "868b4536",
   "metadata": {},
   "source": [
    "### Document JSON schema"
   ]
  },
  {
   "cell_type": "code",
   "execution_count": null,
   "id": "2d2f557a",
   "metadata": {
    "ExecuteTime": {
     "end_time": "2023-03-25T12:06:38.422743Z",
     "start_time": "2023-03-25T12:06:38.419542Z"
    }
   },
   "outputs": [],
   "source": [
    "config = GenerationConfiguration(\n",
    "#    copy_css=False, expand_buttons=True, \n",
    "    template_name='md'\n",
    ")"
   ]
  },
  {
   "cell_type": "code",
   "execution_count": null,
   "id": "f0355401",
   "metadata": {
    "ExecuteTime": {
     "end_time": "2023-03-25T12:06:39.866601Z",
     "start_time": "2023-03-25T12:06:39.861764Z"
    }
   },
   "outputs": [],
   "source": [
    "help(generate_from_filename)"
   ]
  },
  {
   "cell_type": "code",
   "execution_count": null,
   "id": "2453410c",
   "metadata": {
    "ExecuteTime": {
     "end_time": "2023-03-25T12:07:07.337698Z",
     "start_time": "2023-03-25T12:07:07.332479Z"
    },
    "scrolled": true
   },
   "outputs": [],
   "source": [
    "schemas"
   ]
  },
  {
   "cell_type": "code",
   "execution_count": null,
   "id": "1a3f6740",
   "metadata": {
    "ExecuteTime": {
     "end_time": "2023-03-25T12:10:54.239575Z",
     "start_time": "2023-03-25T12:10:46.706802Z"
    }
   },
   "outputs": [],
   "source": [
    "for name, fpath in schemas.items():\n",
    "    cat, ext = os.path.splitext(name)\n",
    "    print(\"Generation doc for {}\".format(cat))\n",
    "    dpath = 'schema_{}_doc.md'.format(cat)\n",
    "    generate_from_filename(fpath, dpath, config=config)"
   ]
  },
  {
   "cell_type": "code",
   "execution_count": null,
   "id": "1514d0e3",
   "metadata": {},
   "outputs": [],
   "source": []
  }
 ],
 "metadata": {
  "kernelspec": {
   "display_name": "Python 3 (jsonschema)",
   "language": "python",
   "name": "jsonschema"
  },
  "language_info": {
   "codemirror_mode": {
    "name": "ipython",
    "version": 3
   },
   "file_extension": ".py",
   "mimetype": "text/x-python",
   "name": "python",
   "nbconvert_exporter": "python",
   "pygments_lexer": "ipython3",
   "version": "3.8.2"
  }
 },
 "nbformat": 4,
 "nbformat_minor": 5
}
