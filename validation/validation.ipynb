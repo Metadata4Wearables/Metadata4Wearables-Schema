{
 "cells": [
  {
   "cell_type": "code",
   "execution_count": null,
   "id": "c377e6b2",
   "metadata": {
    "ExecuteTime": {
     "end_time": "2021-10-08T13:39:37.370967Z",
     "start_time": "2021-10-08T13:39:37.367215Z"
    }
   },
   "outputs": [],
   "source": [
    "import glob\n",
    "import jsonschema\n",
    "from jsonschema import Draft7Validator\n",
    "import os"
   ]
  },
  {
   "cell_type": "code",
   "execution_count": null,
   "id": "1a2f24a5",
   "metadata": {
    "ExecuteTime": {
     "end_time": "2021-10-08T11:47:35.526101Z",
     "start_time": "2021-10-08T11:47:35.522011Z"
    }
   },
   "outputs": [],
   "source": [
    "import json"
   ]
  },
  {
   "cell_type": "markdown",
   "id": "1b3c27a0",
   "metadata": {},
   "source": [
    "## Schema"
   ]
  },
  {
   "cell_type": "markdown",
   "id": "80d76aa0",
   "metadata": {},
   "source": [
    "### Read JSON files"
   ]
  },
  {
   "cell_type": "code",
   "execution_count": null,
   "id": "ccaba33d",
   "metadata": {
    "ExecuteTime": {
     "end_time": "2021-10-08T13:40:52.219342Z",
     "start_time": "2021-10-08T13:40:52.213110Z"
    }
   },
   "outputs": [],
   "source": [
    "# dictionary (name:path) of all schemas\n",
    "schemas = {os.path.basename(fpath): os.path.abspath(fpath) for fpath in glob.iglob('../*.json')}"
   ]
  },
  {
   "cell_type": "code",
   "execution_count": null,
   "id": "ac397270",
   "metadata": {
    "ExecuteTime": {
     "end_time": "2021-10-08T13:43:34.534692Z",
     "start_time": "2021-10-08T13:43:34.506884Z"
    }
   },
   "outputs": [],
   "source": [
    "schema_data = {}\n",
    "for name, schema in schemas.items():\n",
    "    # read file\n",
    "    print('-'*20)\n",
    "    print(' Attempt to read {} ({})'.format(name,schema))\n",
    "    with open(schema, 'r') as f:\n",
    "        schema_data[name] = json.loads(f.read())\n"
   ]
  },
  {
   "cell_type": "markdown",
   "id": "dceb8ebd",
   "metadata": {
    "ExecuteTime": {
     "end_time": "2021-10-06T07:12:55.774272Z",
     "start_time": "2021-10-06T07:12:55.770788Z"
    },
    "scrolled": true
   },
   "source": [
    "### Validate JSON schema"
   ]
  },
  {
   "cell_type": "code",
   "execution_count": null,
   "id": "50fcd268",
   "metadata": {
    "ExecuteTime": {
     "end_time": "2021-10-06T07:13:05.807787Z",
     "start_time": "2021-10-06T07:13:05.792654Z"
    }
   },
   "outputs": [],
   "source": [
    "schema"
   ]
  },
  {
   "cell_type": "code",
   "execution_count": null,
   "id": "1195531a",
   "metadata": {
    "ExecuteTime": {
     "end_time": "2021-10-08T13:45:07.686748Z",
     "start_time": "2021-10-08T13:45:07.669920Z"
    }
   },
   "outputs": [],
   "source": [
    "for name, schema in schema_data.items():\n",
    "    # read file\n",
    "    print('-'*20)\n",
    "    print(' Attempt to validate schema {}'.format(name))\n",
    "    Draft7Validator.check_schema(schema)"
   ]
  },
  {
   "cell_type": "code",
   "execution_count": null,
   "id": "e353e7b5",
   "metadata": {},
   "outputs": [],
   "source": []
  }
 ],
 "metadata": {
  "kernelspec": {
   "display_name": "Python 3",
   "language": "python",
   "name": "python3"
  },
  "language_info": {
   "codemirror_mode": {
    "name": "ipython",
    "version": 3
   },
   "file_extension": ".py",
   "mimetype": "text/x-python",
   "name": "python",
   "nbconvert_exporter": "python",
   "pygments_lexer": "ipython3",
   "version": "3.7.10"
  }
 },
 "nbformat": 4,
 "nbformat_minor": 5
}
