{
 "cells": [
  {
   "cell_type": "code",
   "execution_count": 9,
   "metadata": {},
   "outputs": [
    {
     "data": {
      "text/plain": [
       "{'fields': [{'name': 'event_id',\n",
       "   'type': 'number',\n",
       "   'description': 'The unique identifier for an event',\n",
       "   'constraints': {'required': True}},\n",
       "  {'name': 'event_name',\n",
       "   'type': 'string',\n",
       "   'description': 'Name of the event',\n",
       "   'constraints': {'required': True}},\n",
       "  {'name': 'start_date_time',\n",
       "   'type': 'string',\n",
       "   'description': 'Start date-time for an event',\n",
       "   'constraints': {'required': True}},\n",
       "  {'name': 'stop_date_time',\n",
       "   'type': 'string',\n",
       "   'description': 'Stop date-time for an event',\n",
       "   'constraints': {'required': True}},\n",
       "  {'name': 'comment',\n",
       "   'type': 'string',\n",
       "   'description': 'Comment about an event'}]}"
      ]
     },
     "execution_count": 9,
     "metadata": {},
     "output_type": "execute_result"
    }
   ],
   "source": [
    "import frictionless\n",
    "schema = frictionless.Schema.from_jsonschema(\"event.json\")\n",
    "schema"
   ]
  },
  {
   "cell_type": "code",
   "execution_count": 8,
   "metadata": {},
   "outputs": [
    {
     "data": {
      "text/plain": [
       "'{\\n  \"fields\": [\\n    {\\n      \"name\": \"event_id\",\\n      \"type\": \"number\",\\n      \"description\": \"The unique identifier for an event\",\\n      \"constraints\": {\\n        \"required\": true\\n      }\\n    },\\n    {\\n      \"name\": \"event_name\",\\n      \"type\": \"string\",\\n      \"description\": \"Name of the event\",\\n      \"constraints\": {\\n        \"required\": true\\n      }\\n    },\\n    {\\n      \"name\": \"start_date_time\",\\n      \"type\": \"string\",\\n      \"description\": \"Start date-time for an event\",\\n      \"constraints\": {\\n        \"required\": true\\n      }\\n    },\\n    {\\n      \"name\": \"stop_date_time\",\\n      \"type\": \"string\",\\n      \"description\": \"Stop date-time for an event\",\\n      \"constraints\": {\\n        \"required\": true\\n      }\\n    },\\n    {\\n      \"name\": \"comment\",\\n      \"type\": \"string\",\\n      \"description\": \"Comment about an event\"\\n    }\\n  ]\\n}'"
      ]
     },
     "execution_count": 8,
     "metadata": {},
     "output_type": "execute_result"
    }
   ],
   "source": [
    "schema.to_json(\"event_fd.json\")"
   ]
  }
 ],
 "metadata": {
  "kernelspec": {
   "display_name": "Python 3",
   "language": "python",
   "name": "python3"
  },
  "language_info": {
   "codemirror_mode": {
    "name": "ipython",
    "version": 3
   },
   "file_extension": ".py",
   "mimetype": "text/x-python",
   "name": "python",
   "nbconvert_exporter": "python",
   "pygments_lexer": "ipython3",
   "version": "3.7.3"
  }
 },
 "nbformat": 4,
 "nbformat_minor": 4
}
